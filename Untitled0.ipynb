{
  "nbformat": 4,
  "nbformat_minor": 0,
  "metadata": {
    "colab": {
      "name": "Untitled0.ipynb",
      "provenance": [],
      "collapsed_sections": [],
      "mount_file_id": "1IgpDVjaweknAVeA0o2g9zzn16upHQ_rs",
      "authorship_tag": "ABX9TyNk4/poatYStSFhocyUTEOA",
      "include_colab_link": true
    },
    "kernelspec": {
      "name": "python3",
      "display_name": "Python 3"
    },
    "language_info": {
      "name": "python"
    }
  },
  "cells": [
    {
      "cell_type": "markdown",
      "metadata": {
        "id": "view-in-github",
        "colab_type": "text"
      },
      "source": [
        "<a href=\"https://colab.research.google.com/github/MrMenth0l/Neural_Network_B-N/blob/main/Untitled0.ipynb\" target=\"_parent\"><img src=\"https://colab.research.google.com/assets/colab-badge.svg\" alt=\"Open In Colab\"/></a>"
      ]
    },
    {
      "cell_type": "code",
      "execution_count": 29,
      "metadata": {
        "id": "GO5Kzr5VJqlC"
      },
      "outputs": [],
      "source": [
        "# TensorFlow and tf.keras\n",
        "import tensorflow as tf\n",
        "\n",
        "import pathlib\n",
        "import os\n",
        "import matplotlib.pyplot as plt\n",
        "import pandas as pd\n",
        "import numpy as np\n",
        "import keras_preprocessing \n",
        "from google.colab import drive\n",
        "np.set_printoptions(precision=4)\n"
      ]
    },
    {
      "cell_type": "code",
      "source": [
        "from tensorflow import keras\n",
        "from tensorflow.keras.preprocessing import image_dataset_from_directory\n",
        "import os"
      ],
      "metadata": {
        "id": "pjAG6EZPy9zy"
      },
      "execution_count": null,
      "outputs": []
    },
    {
      "cell_type": "code",
      "source": [
        "train_ds = image_dataset_from_directory(\n",
        "    directory='/content/drive/MyDrive/B&N',\n",
        "    labels='inferred',\n",
        "    label_mode='int',\n",
        "    batch_size=64,\n",
        "    image_size= (256,256),\n",
        "    shuffle=True,\n",
        "    seed=123,\n",
        "    validation_split = 0.1,\n",
        "    subset = 'training'\n",
        "\n",
        "    )\n",
        "validation_ds = image_dataset_from_directory(\n",
        "    directory='/content/drive/MyDrive/B&N',\n",
        "    labels='inferred',\n",
        "    label_mode='int',\n",
        "    batch_size=64,\n",
        "    image_size= (256,256),\n",
        "    shuffle=True,\n",
        "    seed=123,\n",
        "    validation_split = 0.1,\n",
        "    subset = 'validation'\n",
        "\n",
        "    )\n",
        "validation_ds.map(lambda x, y: (tf.cast(x, tf.float32), y))\n",
        "train_ds.map(lambda x, y: (tf.cast(x, tf.float32), y))"
      ],
      "metadata": {
        "id": "r8MKdS8qJ_5s",
        "colab": {
          "base_uri": "https://localhost:8080/"
        },
        "outputId": "58fbc0f5-4bd1-4acd-ddbb-34757726379c"
      },
      "execution_count": 74,
      "outputs": [
        {
          "output_type": "stream",
          "name": "stdout",
          "text": [
            "Found 117 files belonging to 2 classes.\n",
            "Using 106 files for training.\n",
            "Found 117 files belonging to 2 classes.\n",
            "Using 11 files for validation.\n"
          ]
        },
        {
          "output_type": "execute_result",
          "data": {
            "text/plain": [
              "<MapDataset element_spec=(TensorSpec(shape=(None, 256, 256, 3), dtype=tf.float32, name=None), TensorSpec(shape=(None,), dtype=tf.int32, name=None))>"
            ]
          },
          "metadata": {},
          "execution_count": 74
        }
      ]
    },
    {
      "cell_type": "code",
      "source": [
        "model = tf.keras.Sequential([\n",
        "    tf.keras.layers.Flatten(input_shape=(256, 256,3)),\n",
        "    tf.keras.layers.Dense(128, activation='relu'),\n",
        "    tf.keras.layers.Dense(128, activation='relu'),\n",
        "    tf.keras.layers.Dense(10)\n",
        "])\n",
        "model.compile(optimizer='adam',\n",
        "              loss=tf.keras.losses.SparseCategoricalCrossentropy(from_logits=True),\n",
        "              metrics=['accuracy'])\n",
        "model.fit(train_ds, epochs=10)"
      ],
      "metadata": {
        "id": "ABhNFfRGKIkc",
        "colab": {
          "base_uri": "https://localhost:8080/"
        },
        "outputId": "5b000e60-ee35-43db-f4da-5bfb984007ab"
      },
      "execution_count": 76,
      "outputs": [
        {
          "output_type": "stream",
          "name": "stdout",
          "text": [
            "Epoch 1/10\n",
            "2/2 [==============================] - 9s 196ms/step - loss: 12385.6211 - accuracy: 0.1226\n",
            "Epoch 2/10\n",
            "2/2 [==============================] - 12s 180ms/step - loss: 972.0434 - accuracy: 0.6321\n",
            "Epoch 3/10\n",
            "2/2 [==============================] - 8s 187ms/step - loss: 4759.4424 - accuracy: 0.6038\n",
            "Epoch 4/10\n",
            "2/2 [==============================] - 8s 178ms/step - loss: 5012.0884 - accuracy: 0.3962\n",
            "Epoch 5/10\n",
            "2/2 [==============================] - 8s 176ms/step - loss: 2417.7351 - accuracy: 0.6038\n",
            "Epoch 6/10\n",
            "2/2 [==============================] - 8s 179ms/step - loss: 1266.0137 - accuracy: 0.6226\n",
            "Epoch 7/10\n",
            "2/2 [==============================] - 8s 179ms/step - loss: 1053.1569 - accuracy: 0.6321\n",
            "Epoch 8/10\n",
            "2/2 [==============================] - 8s 181ms/step - loss: 1032.5594 - accuracy: 0.7358\n",
            "Epoch 9/10\n",
            "2/2 [==============================] - 9s 188ms/step - loss: 266.3580 - accuracy: 0.8396\n",
            "Epoch 10/10\n",
            "2/2 [==============================] - 8s 181ms/step - loss: 154.1045 - accuracy: 0.9528\n"
          ]
        },
        {
          "output_type": "execute_result",
          "data": {
            "text/plain": [
              "<keras.callbacks.History at 0x7f2456290090>"
            ]
          },
          "metadata": {},
          "execution_count": 76
        }
      ]
    },
    {
      "cell_type": "code",
      "source": [
        ""
      ],
      "metadata": {
        "id": "T_2dzP-cI7Xh"
      },
      "execution_count": null,
      "outputs": []
    },
    {
      "cell_type": "markdown",
      "source": [
        ""
      ],
      "metadata": {
        "id": "wdS_W-7KI6UE"
      }
    }
  ]
}